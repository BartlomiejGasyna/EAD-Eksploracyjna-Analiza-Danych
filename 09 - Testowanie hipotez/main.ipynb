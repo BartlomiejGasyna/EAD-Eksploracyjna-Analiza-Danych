{
 "cells": [
  {
   "cell_type": "markdown",
   "metadata": {},
   "source": [
    "### Podczas testów klinicznych szczepionki na COVID19 firma Pfizer wskazała, że spośród przetestowanej grupy, której podano szczepionkę 9 na 21500 zakaziło się wirusem, natomiast firma Moderna wskazała, że jej szczepionka jest skuteczniejsza ponieważ na 15000 badanych jedynie 5 osób zostało zakażonych. Spróbuj odpowiedzieć na pytania:\n",
    "\n",
    "    Jaka jest średnia skuteczność, odchylenie standardowe rozkładu obu szczepionek i oszacuj (metodą próbkowania bootstrapowego) jaki jest przedział ufności (stwórz wektor binarny zawierający tyle elementów ile osób brało udział w badaniach w którym 0 odpowiada osobie, dla której szczepionka nie zadziałała)"
   ]
  },
  {
   "cell_type": "code",
   "execution_count": 47,
   "metadata": {},
   "outputs": [],
   "source": [
    "import numpy as np\n",
    "import pandas as pd\n",
    "import sklearn.utils\n",
    "import matplotlib.pyplot as plt\n",
    "import seaborn as sns\n",
    "import scipy.stats as stats"
   ]
  },
  {
   "cell_type": "code",
   "execution_count": 48,
   "metadata": {},
   "outputs": [],
   "source": [
    "pfizer = np.ones(21500)\n",
    "pfizer[:9] = 0\n",
    "# 9 / 21_500\n",
    "\n",
    "\n",
    "moderna = np.ones(15_00)\n",
    "moderna[:5] = 0\n",
    "# 5 / 15_000\n",
    "\n"
   ]
  },
  {
   "cell_type": "code",
   "execution_count": 49,
   "metadata": {},
   "outputs": [
    {
     "name": "stdout",
     "output_type": "stream",
     "text": [
      "Średnia skuteczność pfizer:  99.95813953488371\n",
      "Średnia skuteczność moderna:  99.66666666666667\n"
     ]
    }
   ],
   "source": [
    "print('Średnia skuteczność pfizer: ', ( np.mean(pfizer)) * 100)\n",
    "print('Średnia skuteczność moderna: ', ( np.mean(moderna)) * 100)"
   ]
  },
  {
   "cell_type": "code",
   "execution_count": 50,
   "metadata": {},
   "outputs": [
    {
     "name": "stdout",
     "output_type": "stream",
     "text": [
      "Odchylenie standardowe pfizer:  0.02045554744583521\n",
      "Odchylenie standardowe moderna:  0.05763872155263527\n"
     ]
    }
   ],
   "source": [
    "print('Odchylenie standardowe pfizer: ', np.std(pfizer))\n",
    "print('Odchylenie standardowe moderna: ', np.std(moderna))"
   ]
  },
  {
   "cell_type": "code",
   "execution_count": 51,
   "metadata": {},
   "outputs": [
    {
     "name": "stdout",
     "output_type": "stream",
     "text": [
      "Przedział ufności pfeizer: 0.9993023255813953, 0.9998139534883721\n",
      "Przedział ufności moderna: 0.9933333333333333, 0.9993333333333333\n"
     ]
    }
   ],
   "source": [
    "\n",
    "\n",
    "means = []\n",
    "n_boot = 10_000\n",
    "for i in range(1, n_boot):\n",
    "    boot = sklearn.utils.resample(pfizer, replace=True, n_samples=len(pfizer))\n",
    "    means.append(np.mean(boot))\n",
    "means = np.array(means)\n",
    "means.sort()\n",
    "\n",
    "print(f'Przedział ufności pfeizer: {means[int(n_boot * .025)]}, {means[int(n_boot * .975)]}')\n",
    "\n",
    "means = []\n",
    "for i in range(1, n_boot):\n",
    "    boot = sklearn.utils.resample(moderna, replace=True, n_samples=len(moderna))\n",
    "    means.append(np.mean(boot))\n",
    "means = np.array(means)\n",
    "means.sort()\n",
    "\n",
    "print(f'Przedział ufności moderna: {means[int(n_boot * .025)]}, {means[int(n_boot * .975)]}')\n"
   ]
  },
  {
   "cell_type": "markdown",
   "metadata": {},
   "source": [
    "### Zweryfikuj czy prawdą jest, że jedna szczepionka jest skuteczniejsza od drugiej?"
   ]
  },
  {
   "cell_type": "code",
   "execution_count": 52,
   "metadata": {},
   "outputs": [
    {
     "data": {
      "text/plain": [
       "(1.949332938853141, 0.051438727217599255)"
      ]
     },
     "execution_count": 52,
     "metadata": {},
     "output_type": "execute_result"
    }
   ],
   "source": [
    "(stats, p_value) = stats.ttest_ind(pfizer, moderna, equal_var = False)\n",
    "\n",
    "stats, p_value"
   ]
  },
  {
   "cell_type": "markdown",
   "metadata": {},
   "source": [
    "Otrzymane p-value większe od założonego na poziomie 0.05.\n",
    "\n",
    "Brak przesłanek za odrzuceniem hipotezy zerowej."
   ]
  },
  {
   "cell_type": "markdown",
   "metadata": {},
   "source": [
    "### Wyznacz aktualną moc testu"
   ]
  },
  {
   "cell_type": "code",
   "execution_count": 53,
   "metadata": {},
   "outputs": [
    {
     "name": "stdout",
     "output_type": "stream",
     "text": [
      "Aktualna moc testu: 0.10754055618168767\n",
      "Aktualna moc testu: 0.10754055618168767\n"
     ]
    }
   ],
   "source": [
    "from statsmodels.stats.power import TTestIndPower\n",
    "\n",
    "effect = (np.mean(pfizer) - np.mean(moderna)) / (np.std(pfizer) + np.std(moderna)) / 2\n",
    "analysis = TTestIndPower()\n",
    "result = analysis.solve_power(effect, power=None, nobs1=len(pfizer), ratio=len(moderna)/len(pfizer), alpha=0.05)\n",
    "\n",
    "print(f'Aktualna moc testu: {result}')\n",
    "\n",
    "result = analysis.solve_power(effect, power=None, nobs1=len(moderna), ratio=len(pfizer)/len(moderna), alpha=0.05)\n",
    "\n",
    "print(f'Aktualna moc testu: {result}')"
   ]
  },
  {
   "cell_type": "code",
   "execution_count": 54,
   "metadata": {},
   "outputs": [
    {
     "name": "stdout",
     "output_type": "stream",
     "text": [
      "Aby osiągnąć moc testu na poziomie 60.0% należy zebrać: 215681.01351369993 próbek\n"
     ]
    }
   ],
   "source": [
    "power = 0.60\n",
    "result = analysis.solve_power(effect, power=power, nobs1=None, ratio=len(moderna)/len(pfizer), alpha=0.05)\n",
    "\n",
    "\n",
    "print(f'Aby osiągnąć moc testu na poziomie {power * 100}% należy zebrać: {result} próbek')"
   ]
  }
 ],
 "metadata": {
  "kernelspec": {
   "display_name": "Python 3",
   "language": "python",
   "name": "python3"
  },
  "language_info": {
   "codemirror_mode": {
    "name": "ipython",
    "version": 3
   },
   "file_extension": ".py",
   "mimetype": "text/x-python",
   "name": "python",
   "nbconvert_exporter": "python",
   "pygments_lexer": "ipython3",
   "version": "3.10.12"
  }
 },
 "nbformat": 4,
 "nbformat_minor": 2
}
