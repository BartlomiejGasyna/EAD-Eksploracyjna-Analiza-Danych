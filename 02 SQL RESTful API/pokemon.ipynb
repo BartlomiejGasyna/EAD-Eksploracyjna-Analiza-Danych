{
 "cells": [
  {
   "cell_type": "code",
   "execution_count": 1,
   "metadata": {},
   "outputs": [
    {
     "name": "stdout",
     "output_type": "stream",
     "text": [
      "         meeting_date       name\n",
      "0 2015-07-15 04:15:23   Slurpuff\n",
      "1 2015-10-22 23:28:34    Scrafty\n",
      "2 2015-11-07 14:14:39  Mandibuzz\n",
      "3 2015-12-23 08:51:11      Yanma\n",
      "4 2016-03-04 06:50:08     Comfey\n"
     ]
    }
   ],
   "source": [
    "import pandas as pd\n",
    "import requests\n",
    "# import json\n",
    "\n",
    "file_path = 'pokedex_history.hdf5'\n",
    "\n",
    "df_pokedex = pd.read_hdf(file_path)\n",
    "\n",
    "print(df_pokedex.head())\n",
    "\n",
    "# Initialize a DataFrame for Pokémon data\n",
    "df_pokemon = pd.DataFrame(columns=['pokemon', 'hp', 'attack', 'defense', 'special_attack', 'special_defense', 'speed'])\n"
   ]
  },
  {
   "cell_type": "code",
   "execution_count": 2,
   "metadata": {},
   "outputs": [
    {
     "data": {
      "text/plain": [
       "[{'base_stat': 35,\n",
       "  'effort': 0,\n",
       "  'stat': {'name': 'hp', 'url': 'https://pokeapi.co/api/v2/stat/1/'}},\n",
       " {'base_stat': 55,\n",
       "  'effort': 0,\n",
       "  'stat': {'name': 'attack', 'url': 'https://pokeapi.co/api/v2/stat/2/'}},\n",
       " {'base_stat': 40,\n",
       "  'effort': 0,\n",
       "  'stat': {'name': 'defense', 'url': 'https://pokeapi.co/api/v2/stat/3/'}},\n",
       " {'base_stat': 50,\n",
       "  'effort': 0,\n",
       "  'stat': {'name': 'special-attack',\n",
       "   'url': 'https://pokeapi.co/api/v2/stat/4/'}},\n",
       " {'base_stat': 50,\n",
       "  'effort': 0,\n",
       "  'stat': {'name': 'special-defense',\n",
       "   'url': 'https://pokeapi.co/api/v2/stat/5/'}},\n",
       " {'base_stat': 90,\n",
       "  'effort': 2,\n",
       "  'stat': {'name': 'speed', 'url': 'https://pokeapi.co/api/v2/stat/6/'}}]"
      ]
     },
     "execution_count": 2,
     "metadata": {},
     "output_type": "execute_result"
    }
   ],
   "source": [
    "base_url = 'https://pokeapi.co/api/v2/pokemon/'\n",
    "\n",
    "pokemon_name = 'pikachu'\n",
    "pokemon_name = pokemon_name.lower()\n",
    "response = requests.get(base_url + pokemon_name)\n",
    "response = response.json()\n",
    "response['stats']\n"
   ]
  },
  {
   "cell_type": "code",
   "execution_count": 3,
   "metadata": {},
   "outputs": [
    {
     "name": "stdout",
     "output_type": "stream",
     "text": [
      "     pokemon   hp attack defense special_attack special_defense speed type_1  \\\n",
      "0   slurpuff   82     80      86             85              75    72  fairy   \n",
      "1    scrafty   65     90     115             45             115    58   dark   \n",
      "2  mandibuzz  110     65     105             55              95    80   dark   \n",
      "3      yanma   65     65      45             75              45    95    bug   \n",
      "4     comfey   51     52      90             82             110   100  fairy   \n",
      "\n",
      "     type_2  \n",
      "0      None  \n",
      "1  fighting  \n",
      "2    flying  \n",
      "3    flying  \n",
      "4      None  \n"
     ]
    }
   ],
   "source": [
    "base_url = 'https://pokeapi.co/api/v2/pokemon/'\n",
    "\n",
    "# join\n",
    "for pokemon_name in df_pokedex['name']:\n",
    "    pokemon_name = pokemon_name.lower()\n",
    "    response = requests.get(base_url + pokemon_name)\n",
    "    if response.status_code == 200:\n",
    "        pokemon_response = response.json()\n",
    "\n",
    "        hp              = pokemon_response['stats'][0]['base_stat']\n",
    "        attack          = pokemon_response['stats'][1]['base_stat']\n",
    "        defense         = pokemon_response['stats'][2]['base_stat']\n",
    "        special_attack  = pokemon_response['stats'][3]['base_stat']\n",
    "        special_defense = pokemon_response['stats'][4]['base_stat']\n",
    "        speed           = pokemon_response['stats'][5]['base_stat']\n",
    "\n",
    "        type_1          = pokemon_response['types'][0]['type']['name']\n",
    "        \n",
    "        if len(pokemon_response['types']) > 1:\n",
    "            type_2      = pokemon_response['types'][1]['type']['name']\n",
    "        else:\n",
    "            type_2 = None\n",
    "\n",
    "        new_pokemon_data = pd.DataFrame(data={'pokemon':        [pokemon_name], \n",
    "                                            'hp':               [hp], \n",
    "                                            'attack':           [attack], \n",
    "                                            'defense':          [defense], \n",
    "                                            'special_attack':   [special_attack], \n",
    "                                            'special_defense':  [special_defense], \n",
    "                                            'speed':            [speed],\n",
    "                                            'type_1':           [type_1],\n",
    "                                            'type_2':           [type_2]})\n",
    "\n",
    "        df_pokemon = pd.concat([df_pokemon, new_pokemon_data], ignore_index=True)\n",
    "\n",
    "print(df_pokemon.head())"
   ]
  },
  {
   "cell_type": "markdown",
   "metadata": {},
   "source": [
    "Z bazy danych odczytaj informację z kolumn against_* mówiącą o skuteczności ataku"
   ]
  },
  {
   "cell_type": "code",
   "execution_count": 4,
   "metadata": {},
   "outputs": [
    {
     "data": {
      "text/html": [
       "<div>\n",
       "<style scoped>\n",
       "    .dataframe tbody tr th:only-of-type {\n",
       "        vertical-align: middle;\n",
       "    }\n",
       "\n",
       "    .dataframe tbody tr th {\n",
       "        vertical-align: top;\n",
       "    }\n",
       "\n",
       "    .dataframe thead th {\n",
       "        text-align: right;\n",
       "    }\n",
       "</style>\n",
       "<table border=\"1\" class=\"dataframe\">\n",
       "  <thead>\n",
       "    <tr style=\"text-align: right;\">\n",
       "      <th></th>\n",
       "      <th>pokemon</th>\n",
       "      <th>hp</th>\n",
       "      <th>attack</th>\n",
       "      <th>defense</th>\n",
       "      <th>special_attack</th>\n",
       "      <th>special_defense</th>\n",
       "      <th>speed</th>\n",
       "      <th>type_1</th>\n",
       "      <th>type_2</th>\n",
       "    </tr>\n",
       "  </thead>\n",
       "  <tbody>\n",
       "    <tr>\n",
       "      <th>3</th>\n",
       "      <td>yanma</td>\n",
       "      <td>65</td>\n",
       "      <td>65</td>\n",
       "      <td>45</td>\n",
       "      <td>75</td>\n",
       "      <td>45</td>\n",
       "      <td>95</td>\n",
       "      <td>bug</td>\n",
       "      <td>flying</td>\n",
       "    </tr>\n",
       "  </tbody>\n",
       "</table>\n",
       "</div>"
      ],
      "text/plain": [
       "  pokemon  hp attack defense special_attack special_defense speed type_1  \\\n",
       "3   yanma  65     65      45             75              45    95    bug   \n",
       "\n",
       "   type_2  \n",
       "3  flying  "
      ]
     },
     "execution_count": 4,
     "metadata": {},
     "output_type": "execute_result"
    }
   ],
   "source": [
    "df_pokemon.loc[df_pokemon['pokemon'] == 'yanma']"
   ]
  },
  {
   "cell_type": "code",
   "execution_count": 5,
   "metadata": {},
   "outputs": [
    {
     "name": "stdout",
     "output_type": "stream",
     "text": [
      "(1.0, 1.0, 1.0, 0.5, 1.0, 1.0, 1.0, 0.5, 1.0, 1.0, 2.0, 1.0, 1.0, 1.0, 1.0, 1.0, 0.5, 1.0)\n"
     ]
    }
   ],
   "source": [
    "\n",
    "import sqlite3\n",
    "import re\n",
    "\n",
    "conn = sqlite3.connect(\"pokemon_against.sqlite\")  # połączenie do bazy danych - pliku\n",
    "cursor = conn.cursor()\n",
    "\n",
    "pattern = re.compile(r'against_')\n",
    "cursor.execute(\"PRAGMA table_info(against_stats)\")\n",
    "columns = cursor.fetchall()\n",
    "col_name = [column[1] for column in columns if pattern.match(column[1])]\n",
    "\n",
    "pokemon_name = \"Pikachu\"\n",
    "query = f'SELECT {\", \".join(col_name)} FROM against_stats WHERE name = \"{pokemon_name}\"'\n",
    "\n",
    "for row in conn.execute(query):\n",
    "    print(row)\n",
    "conn.close()"
   ]
  },
  {
   "cell_type": "code",
   "execution_count": 6,
   "metadata": {},
   "outputs": [
    {
     "ename": "NameError",
     "evalue": "name 'idx' is not defined",
     "output_type": "error",
     "traceback": [
      "\u001b[0;31m---------------------------------------------------------------------------\u001b[0m",
      "\u001b[0;31mNameError\u001b[0m                                 Traceback (most recent call last)",
      "\u001b[1;32m/home/gasyna/RiSA_S2/EAD Eksploracyjna Analiza Danych/2 SQL RESTful API/pokemon.ipynb Cell 7\u001b[0m line \u001b[0;36m1\n\u001b[0;32m----> <a href='vscode-notebook-cell:/home/gasyna/RiSA_S2/EAD%20Eksploracyjna%20Analiza%20Danych/2%20SQL%20RESTful%20API/pokemon.ipynb#W6sZmlsZQ%3D%3D?line=0'>1</a>\u001b[0m row[idx[\u001b[39m0\u001b[39m]]\n",
      "\u001b[0;31mNameError\u001b[0m: name 'idx' is not defined"
     ]
    }
   ],
   "source": [
    "row[idx[0]]"
   ]
  },
  {
   "cell_type": "code",
   "execution_count": null,
   "metadata": {},
   "outputs": [
    {
     "name": "stdout",
     "output_type": "stream",
     "text": [
      "Pokemon survived!\n"
     ]
    },
    {
     "data": {
      "text/plain": [
       "28.349999999999998"
      ]
     },
     "execution_count": 67,
     "metadata": {},
     "output_type": "execute_result"
    }
   ],
   "source": [
    "def attack_against(attacker: str, attacked: str, database: pd.DataFrame):\n",
    "    pd_attacker = database.loc[database['pokemon'] == attacker.lower()].copy()\n",
    "    pd_attacked = database.loc[database['pokemon'] == attacked.lower()].copy()\n",
    "\n",
    "\n",
    "    if pd_attacker.loc[:, pd_attacker.columns != 'type_2'].isnull().any().any():\n",
    "        print('Not enough data about attacker pokemon!')\n",
    "        return None\n",
    "    \n",
    "    if pd_attacked.loc[:, pd_attacked.columns != 'type_2'].isnull().any().any():\n",
    "        print('Not enough data about attacked pokemon!')\n",
    "        return None\n",
    "\n",
    "    conn = sqlite3.connect(\"pokemon_against.sqlite\")  # connection to file-based database\n",
    "    cursor = conn.cursor()\n",
    "    pattern = re.compile(r'against_') # fetch only columns with \"against_\" prefix\n",
    "    cursor.execute(\"PRAGMA table_info(against_stats)\")\n",
    "    columns = cursor.fetchall()\n",
    "    col_name = [column[1] for column in columns if pattern.match(column[1])]\n",
    "\n",
    "    # fetch against stats for attacker\n",
    "    query = f'SELECT {\", \".join(col_name)} FROM against_stats WHERE name = \"{attacker.capitalize()}\"'\n",
    "    against_stats = conn.execute(query)\n",
    "    for against_stats in conn.execute(query):\n",
    "        continue\n",
    "    conn.close()\n",
    "\n",
    "    # calculate multipliers against types\n",
    "    idx = [i for i, element in enumerate(col_name) if pd_attacked['type_1'].values[0] in element][0]\n",
    "    against_type_1 = against_stats[idx]\n",
    "\n",
    "    if pd_attacked['type_2'].values[0] is not None:\n",
    "        idx = [i for i, element in enumerate(col_name) if pd_attacked['type_2'].values[0] in element][0]\n",
    "        against_type_2 = against_stats[idx]\n",
    "    else:\n",
    "        against_type_2 = 1\n",
    "\n",
    "    \n",
    "    # calculate points\n",
    "    attacker_points = pd_attacker['attack'].astype(float).values[0]\n",
    "    attacker_points += ( pd_attacker['special_attack'].astype(float).values[0] * 1.5 )\n",
    "    attacker_points *= against_type_1\n",
    "    attacker_points *= against_type_2\n",
    "    attacker_points *= pd_attacked['defense'].astype(float).values[0] / 100\n",
    "    attacker_points *= pd_attacked['special_defense'].astype(float).values[0] / 75\n",
    "    attacker_points *= (pd_attacked['speed'].astype(float).values[0] / 100) + 0.25\n",
    "\n",
    "    if attacker_points > pd_attacked['hp'].astype(float).values[0]:\n",
    "        print('Pokemon defeated!')\n",
    "    else:\n",
    "        print('Pokemon survived!')\n",
    "\n",
    "    return attacker_points\n",
    "\n",
    "\n",
    "\n",
    "attack_against('comfey', 'yanma', df_pokemon)"
   ]
  },
  {
   "cell_type": "code",
   "execution_count": null,
   "metadata": {},
   "outputs": [
    {
     "data": {
      "text/plain": [
       "'against_fire'"
      ]
     },
     "execution_count": 57,
     "metadata": {},
     "output_type": "execute_result"
    }
   ],
   "source": [
    "pokemon_type = 'fire'\n",
    "idx = [i for i, element in enumerate(col_name) if pokemon_type in element][0]\n",
    "# idx\n",
    "col_name[idx]\n"
   ]
  },
  {
   "cell_type": "code",
   "execution_count": null,
   "metadata": {},
   "outputs": [],
   "source": [
    "wczytac zbior titanic, funkcja CUT do podzielenia 'age' na buckets, potem tablica przestawna, kobiety/mezczyzni klasa, liczebnosc i przetrwanie"
   ]
  }
 ],
 "metadata": {
  "kernelspec": {
   "display_name": ".venv",
   "language": "python",
   "name": "python3"
  },
  "language_info": {
   "codemirror_mode": {
    "name": "ipython",
    "version": 3
   },
   "file_extension": ".py",
   "mimetype": "text/x-python",
   "name": "python",
   "nbconvert_exporter": "python",
   "pygments_lexer": "ipython3",
   "version": "3.10.12"
  }
 },
 "nbformat": 4,
 "nbformat_minor": 2
}
